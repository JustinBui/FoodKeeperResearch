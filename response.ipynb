{
 "cells": [
  {
   "cell_type": "markdown",
   "metadata": {},
   "source": [
    "# Original"
   ]
  },
  {
   "cell_type": "code",
   "execution_count": 1,
   "metadata": {},
   "outputs": [
    {
     "data": {
      "text/html": [
       "<span class=\"tex2jax_ignore\"><div class=\"entities\" style=\"line-height: 2.5; direction: ltr\">just microwaved a kashi \n",
       "<mark class=\"entity\" style=\"background: #ddd; padding: 0.45em 0.6em; margin: 0 0.25em; line-height: 1; border-radius: 0.35em;\">\n",
       "    chicken\n",
       "    <span style=\"font-size: 0.8em; font-weight: bold; line-height: 1; border-radius: 0.35em; vertical-align: middle; margin-left: 0.5rem\">FOOD</span>\n",
       "</mark>\n",
       " and spinach thing and put in the \n",
       "<mark class=\"entity\" style=\"background: #ddd; padding: 0.45em 0.6em; margin: 0 0.25em; line-height: 1; border-radius: 0.35em;\">\n",
       "    milk\n",
       "    <span style=\"font-size: 0.8em; font-weight: bold; line-height: 1; border-radius: 0.35em; vertical-align: middle; margin-left: 0.5rem\">FOOD</span>\n",
       "</mark>\n",
       " dvd anyone seen it? i bet it's good i still havent seen slumdog</div></span>"
      ],
      "text/plain": [
       "<IPython.core.display.HTML object>"
      ]
     },
     "metadata": {},
     "output_type": "display_data"
    },
    {
     "name": "stdout",
     "output_type": "stream",
     "text": [
      "Total Entities found:  (chicken, milk)\n",
      "chicken\n",
      "['No Tip to give!']\n",
      "['The Date of Perish for Chicken is from 1 to 2 Days']\n",
      "['The Date of Perish for Chicken is 12 Months']\n",
      "milk\n",
      "['No Tip to give!']\n",
      "['Refrigerate is Package use-by date']\n",
      "['The Date of Perish for Milk is 3 Months']\n"
     ]
    },
    {
     "data": {
      "text/html": [
       "<span class=\"tex2jax_ignore\"><div class=\"entities\" style=\"line-height: 2.5; direction: ltr\"> thats really sad i wolud hate that! but i had choco \n",
       "<mark class=\"entity\" style=\"background: #ddd; padding: 0.45em 0.6em; margin: 0 0.25em; line-height: 1; border-radius: 0.35em;\">\n",
       "    milk\n",
       "    <span style=\"font-size: 0.8em; font-weight: bold; line-height: 1; border-radius: 0.35em; vertical-align: middle; margin-left: 0.5rem\">FOOD</span>\n",
       "</mark>\n",
       " earlier =d lol</div></span>"
      ],
      "text/plain": [
       "<IPython.core.display.HTML object>"
      ]
     },
     "metadata": {},
     "output_type": "display_data"
    },
    {
     "name": "stdout",
     "output_type": "stream",
     "text": [
      "Total Entities found:  (milk,)\n",
      "milk\n",
      "['No Tip to give!']\n",
      "['Refrigerate is Package use-by date']\n",
      "['The Date of Perish for Milk is 3 Months']\n"
     ]
    },
    {
     "name": "stderr",
     "output_type": "stream",
     "text": [
      "C:\\ProgramData\\Anaconda3\\lib\\site-packages\\spacy\\displacy\\__init__.py:200: UserWarning: [W006] No entities to visualize found in Doc object. If this is surprising to you, make sure the Doc was processed using a model that supports named entity recognition, and check the `doc.ents` property manually if necessary.\n",
      "  warnings.warn(Warnings.W006)\n"
     ]
    },
    {
     "data": {
      "text/html": [
       "<span class=\"tex2jax_ignore\"><div class=\"entities\" style=\"line-height: 2.5; direction: ltr\"> and it took me my entire walk to the train station to undo it</div></span>"
      ],
      "text/plain": [
       "<IPython.core.display.HTML object>"
      ]
     },
     "metadata": {},
     "output_type": "display_data"
    },
    {
     "name": "stdout",
     "output_type": "stream",
     "text": [
      "Total Entities found:  ()\n"
     ]
    }
   ],
   "source": [
    "%run food_item_info.ipynb\n",
    "%run evaluation_notebook.ipynb\n",
    "import random\n",
    "types = ['Pantry', 'Refrigerate', 'Freeze']\n",
    "tips = ''\n",
    "nlp = spacy.load(MODEL_PATH)\n",
    "allFoodTweets = []\n",
    "# rangeTweets = [5,7]\n",
    "rangeTweets = [0,3]\n",
    "for i in range(rangeTweets[0], rangeTweets[1]):\n",
    "    myTweet = test_data['tweet'][i]\n",
    "    x = nlp(preProcess(myTweet))\n",
    "    # splitSent = myTweet.split()\n",
    "    allFoodTweets.append(x.doc.ents)\n",
    "\n",
    "counter = rangeTweets[0]\n",
    "for entities in allFoodTweets:\n",
    "    if counter != rangeTweets[1]:\n",
    "        myTweet = test_data['tweet'][counter]\n",
    "        ent_recognize(preProcess(myTweet))\n",
    "        print(\"Total Entities found: \", entities)\n",
    "        counter += 1\n",
    "    for e in entities:\n",
    "        item = repr(e)\n",
    "        print(item)\n",
    "        if entityFound(item):\n",
    "            for t in types: print(foodStorage(item, t))\n",
    "        else: print('entity not found!')\n",
    "\n",
    "# displayTipsByTweet(test_data)"
   ]
  },
  {
   "cell_type": "markdown",
   "metadata": {},
   "source": [
    "# Experimenting Using SpaCy similarity_scores()"
   ]
  },
  {
   "cell_type": "code",
   "execution_count": 1,
   "metadata": {},
   "outputs": [],
   "source": [
    "#from gensim.summarization.summarizer import summarize\n",
    "#from gensim.summarization import keywords as extract_keywords\n",
    "\n",
    "import nltk\n",
    "from nltk.corpus import wordnet\n",
    "from nltk.corpus import stopwords\n",
    "\n",
    "import spacy\n",
    "\n",
    "import warnings\n",
    "warnings.filterwarnings('ignore')\n",
    "\n",
    "import random\n",
    "import numpy as np\n",
    "import time"
   ]
  },
  {
   "cell_type": "markdown",
   "metadata": {},
   "source": [
    "### Relevant functions"
   ]
  },
  {
   "cell_type": "code",
   "execution_count": 2,
   "metadata": {},
   "outputs": [],
   "source": [
    "def get_surrounding_words(sentence, ents):    \n",
    "    words = []\n",
    "    \n",
    "    for w in sentence.split():\n",
    "        words.append(w)\n",
    "        \n",
    "    # Filtering out:\n",
    "    # 1) Keywords from keyword_ that have NO synset, because we need words with synset in order to perform word similarity\n",
    "    # 2) Keywords that are not actual entities detected (Because we want to extract keywords SURROUNDING the entities)\n",
    "    words = [w for w in words if len(wordnet.synsets(w)) > 0 and w not in ents]\n",
    "\n",
    "    # Filtering stopwords\n",
    "    stops = stopwords.words('english')\n",
    "    words = [w for w in words if w not in stops]\n",
    "    \n",
    "    # Part of speech tagging (We want only nouns, and verbs - However this is bound to change)\n",
    "    prefered_pos = ['NN', 'NNS', 'VB', 'VBD', 'VBG', 'VBN',  'VBP', 'VBZ']\n",
    "    # prefered_pos = ['VB', 'VBD', 'VBG', 'VBN',  'VBP', 'VBZ']\n",
    "    tagged = nltk.pos_tag(words)\n",
    "\n",
    "    words = []\n",
    "    for word, pos in tagged:    \n",
    "        if pos in prefered_pos:\n",
    "            words.append(word)\n",
    "    \n",
    "    return words # Array of words being returned\n",
    "\n",
    "def get_cooking_similarity(context_words: list):\n",
    "    if len(context_words) == 0: # Empty list\n",
    "        return {'': 0}\n",
    "    \n",
    "    cooking_keywords = [\"cook\", \"cooking\", \"recipe\", \"ingredient\"]\n",
    "    # cooking_keywords = [\"cook\", \"cooking\", \"cooked\"]\n",
    "    nlp_word_sim = spacy.load('en_core_web_md') # Another spacy nlp model for word similarity\n",
    "    \n",
    "    similarity_scores = dict()\n",
    "    \n",
    "    for current_word in context_words:        \n",
    "        cooking_similarity_dict = dict()        \n",
    "        current_token = nlp_word_sim(current_word)\n",
    "        \n",
    "        for cook_word in cooking_keywords:\n",
    "            # Comparing current word with cooking words: \"cook\", \"cooking\", \"recipe\", \"ingredient\".\n",
    "            # Get the corresponding cooking word with the highest score\n",
    "            cook_token = nlp_word_sim(cook_word)\n",
    "                \n",
    "            cooking_similarity_dict[cook_word] = cook_token.similarity(current_token)\n",
    "        \n",
    "        highest_cooking_word = max(cooking_similarity_dict, key=cooking_similarity_dict.get)\n",
    "        similarity_scores[current_word] = cooking_similarity_dict[highest_cooking_word]\n",
    "    \n",
    "    return similarity_scores\n",
    "\n",
    "def is_related_to_cooking(similarity_scores, threshold):\n",
    "    highest_corr_word = max(similarity_scores, key=similarity_scores.get)\n",
    "    highest_score = similarity_scores[highest_corr_word]\n",
    "    print(f'Highest correlated word \\'{highest_corr_word}\\': {highest_score} similarity rate')\n",
    "    \n",
    "    if highest_score >= threshold:\n",
    "        return True\n",
    "    else:\n",
    "        return False\n",
    "\n",
    "def generate_response(tweet, entities, thresh_value):\n",
    "    if len(entities) == 0:\n",
    "        print('No tips to give!')\n",
    "    else:\n",
    "        types = ['Pantry', 'Refrigerate', 'Freeze']\n",
    "        ents_str = [e.text for e in entities] # Convert tuple of <class 'spacy.tokens.span.Span'> to list of entity strings\n",
    "\n",
    "        # Retrieving words surrounding each entity\n",
    "        filtered_words = get_surrounding_words(tweet, ents_str)\n",
    "\n",
    "        # Retrieving Similarity Scores (SpaCy)\n",
    "        similarity_scores = get_cooking_similarity(filtered_words)\n",
    "\n",
    "        # Identify if our sentence (Based on context is related to cooking)\n",
    "        if is_related_to_cooking(similarity_scores, threshold=thresh_value):\n",
    "            for e in entities:\n",
    "                item = repr(e)\n",
    "                print(item)\n",
    "                if entityFound(item):\n",
    "                    for t in types:\n",
    "                        print(foodStorage(item, t))\n",
    "                else: print('Entity not found in our dataset!')\n",
    "        else:\n",
    "            print('Context of this sentence is not relevant to give a tip')"
   ]
  },
  {
   "cell_type": "markdown",
   "metadata": {},
   "source": [
    "### Numerical analysis on our responses algorithm"
   ]
  },
  {
   "cell_type": "code",
   "execution_count": 5,
   "metadata": {},
   "outputs": [
    {
     "name": "stdout",
     "output_type": "stream",
     "text": [
      "------------------------Elapsed time 66.97978806495667 seconds------------------------\n"
     ]
    }
   ],
   "source": [
    "%run food_item_info.ipynb\n",
    "%run evaluation_notebook.ipynb\n",
    "\n",
    "def make_predictions(df, model_path, threshold):\n",
    "    start_time = time.time()\n",
    "    predictions = []\n",
    "    \n",
    "    types = ['Pantry', 'Refrigerate', 'Freeze']\n",
    "    tips = ''\n",
    "    nlp = spacy.load(model_path)\n",
    "    allFoodTweets = [] \n",
    "    rangeTweets = [0, len(df)]\n",
    "\n",
    "    # Getting all entities from each Spacy Document\n",
    "    for i in range(rangeTweets[0], rangeTweets[1]):\n",
    "        myTweet = df['tweet'][i]\n",
    "        x = nlp(preProcess(myTweet))\n",
    "        allFoodTweets.append(x.doc.ents)\n",
    "    \n",
    "    counter = rangeTweets[0]\n",
    "    for entities in allFoodTweets:\n",
    "        if counter != rangeTweets[1]:\n",
    "            myTweet = df['tweet'][counter]\n",
    "            preprocessed_tweet = preProcess(myTweet)\n",
    "\n",
    "            if len(entities) == 0:\n",
    "                predictions.append(0)\n",
    "            else:\n",
    "                ents_str = [e.text for e in entities] # Convert tuple of <class 'spacy.tokens.span.Span'> to list of entity strings\n",
    "                filtered_words = get_surrounding_words(preprocessed_tweet, ents_str)\n",
    "                \n",
    "                # Finding Similarity Scores (SpaCy)\n",
    "                similarity_scores = get_cooking_similarity(filtered_words)\n",
    "\n",
    "                # Finding corresponding word with highest similarity score form 'cook'\n",
    "                highest_corr_word = max(similarity_scores, key=similarity_scores.get)\n",
    "                highest_score = similarity_scores[highest_corr_word]\n",
    "\n",
    "                # If highest_score >= threshold, then this sentence is likely most relevant to cooking, so give tips\n",
    "                if highest_score >= threshold:\n",
    "                    predictions.append(1)\n",
    "                else:\n",
    "                    predictions.append(0)\n",
    "\n",
    "        counter += 1\n",
    "    \n",
    "    print(f'------------------------Elapsed time {time.time() - start_time} seconds------------------------')\n",
    "    return predictions\n",
    "\n",
    "ground_truths = pd.read_csv('datasets/responses_ground_truth.csv')\n",
    "predictions = make_predictions(ground_truths, MODEL_PATH, 0.85)"
   ]
  },
  {
   "cell_type": "code",
   "execution_count": 6,
   "metadata": {},
   "outputs": [
    {
     "name": "stdout",
     "output_type": "stream",
     "text": [
      "Accuracy: 0.9397590361445783\n",
      "Precision: 0.2857142857142857\n",
      "Recall: 1.0\n",
      "F1: 0.4444444444444445\n"
     ]
    },
    {
     "data": {
      "text/plain": [
       "[Text(0.5, 25.722222222222214, 'Predicted (Our Algorithm)'),\n",
       " Text(33.22222222222222, 0.5, 'Actual Labels'),\n",
       " [Text(0.5, 0, 'Not Cooking Realted'), Text(1.5, 0, 'Cooking Related')],\n",
       " [Text(0, 0.5, 'Not Cooking Related'), Text(0, 1.5, 'Cooking Related')]]"
      ]
     },
     "execution_count": 6,
     "metadata": {},
     "output_type": "execute_result"
    },
    {
     "data": {
      "image/png": "[encoded data removed]",
      "text/plain": [
       "<Figure size 500x500 with 2 Axes>"
      ]
     },
     "metadata": {},
     "output_type": "display_data"
    }
   ],
   "source": [
    "from sklearn.metrics import accuracy_score, precision_score, recall_score, f1_score, confusion_matrix\n",
    "import matplotlib.pyplot as plt\n",
    "import seaborn as sns\n",
    "\n",
    "actual = ground_truths['cooking related']\n",
    "\n",
    "print(f'Accuracy: {accuracy_score(predictions, actual)}')\n",
    "print(f'Precision: {precision_score(predictions, actual)}')\n",
    "print(f'Recall: {recall_score(predictions, actual)}')\n",
    "print(f'F1: {f1_score(predictions, actual)}')\n",
    "\n",
    "cf_matrix = confusion_matrix(actual, predictions)\n",
    "plt.figure(figsize = (5,5))\n",
    "plt.title(\"Confusion Matrix: Identifying Cooking-Related Words\")\n",
    "ht_mp = sns.heatmap(cf_matrix, annot=True)\n",
    "ht_mp.set(xlabel='Predicted (Our Algorithm)', ylabel='Actual Labels', \n",
    "          xticklabels=['Not Cooking Realted', 'Cooking Related'], \n",
    "          yticklabels=['Not Cooking Related', 'Cooking Related'])"
   ]
  },
  {
   "cell_type": "markdown",
   "metadata": {},
   "source": [
    "### ROC (Receiver Operating Characteristic) of Our Predictions"
   ]
  },
  {
   "cell_type": "code",
   "execution_count": 7,
   "metadata": {},
   "outputs": [
    {
     "data": {
      "image/png": "[encoded data removed]",
      "text/plain": [
       "<Figure size 640x480 with 1 Axes>"
      ]
     },
     "metadata": {},
     "output_type": "display_data"
    },
    {
     "name": "stdout",
     "output_type": "stream",
     "text": [
      "Our Area Under the Curve 0.9691358024691358\n"
     ]
    }
   ],
   "source": [
    "import matplotlib.pyplot as plt\n",
    "from sklearn.datasets import make_classification\n",
    "from sklearn.metrics import RocCurveDisplay\n",
    "from sklearn.model_selection import train_test_split\n",
    "from sklearn.svm import SVC\n",
    "\n",
    "RocCurveDisplay.from_predictions(predictions, actual)\n",
    "plt.plot([0, 1], [0, 1], linestyle='--', color='red', label='Random guessing')\n",
    "plt.legend(loc=\"lower right\")\n",
    "plt.show()\n",
    "\n",
    "from sklearn.metrics import roc_auc_score\n",
    "print(f'Our Area Under the Curve {roc_auc_score(predictions, actual)}')"
   ]
  },
  {
   "cell_type": "markdown",
   "metadata": {},
   "source": [
    "### This cell showcases output of how an idea algorithm would behave in generating potential responses"
   ]
  },
  {
   "cell_type": "code",
   "execution_count": 8,
   "metadata": {
    "scrolled": false
   },
   "outputs": [
    {
     "data": {
      "text/html": [
       "<span class=\"tex2jax_ignore\"><div class=\"entities\" style=\"line-height: 2.5; direction: ltr\">ew one more day till school</div></span>"
      ],
      "text/plain": [
       "<IPython.core.display.HTML object>"
      ]
     },
     "metadata": {},
     "output_type": "display_data"
    },
    {
     "name": "stdout",
     "output_type": "stream",
     "text": [
      "Total Entities found:  ()\n",
      "No tips to give!\n",
      "====================================================================================================\n"
     ]
    },
    {
     "data": {
      "text/html": [
       "<span class=\"tex2jax_ignore\"><div class=\"entities\" style=\"line-height: 2.5; direction: ltr\"> aiyooooo maybe \n",
       "<mark class=\"entity\" style=\"background: #ddd; padding: 0.45em 0.6em; margin: 0 0.25em; line-height: 1; border-radius: 0.35em;\">\n",
       "    chocolate\n",
       "    <span style=\"font-size: 0.8em; font-weight: bold; line-height: 1; border-radius: 0.35em; vertical-align: middle; margin-left: 0.5rem\">FOOD</span>\n",
       "</mark>\n",
       " will help? \n",
       "<mark class=\"entity\" style=\"background: #ddd; padding: 0.45em 0.6em; margin: 0 0.25em; line-height: 1; border-radius: 0.35em;\">\n",
       "    chocolate\n",
       "    <span style=\"font-size: 0.8em; font-weight: bold; line-height: 1; border-radius: 0.35em; vertical-align: middle; margin-left: 0.5rem\">FOOD</span>\n",
       "</mark>\n",
       " helps in most situations</div></span>"
      ],
      "text/plain": [
       "<IPython.core.display.HTML object>"
      ]
     },
     "metadata": {},
     "output_type": "display_data"
    },
    {
     "name": "stdout",
     "output_type": "stream",
     "text": [
      "Total Entities found:  (chocolate, chocolate)\n",
      "Highest correlated word 'situations': 0.3613373566876426 similarity rate\n",
      "Context of this sentence is not relevant to give a tip\n",
      "====================================================================================================\n"
     ]
    },
    {
     "data": {
      "text/html": [
       "<span class=\"tex2jax_ignore\"><div class=\"entities\" style=\"line-height: 2.5; direction: ltr\">now that i'm trying to stay off \n",
       "<mark class=\"entity\" style=\"background: #ddd; padding: 0.45em 0.6em; margin: 0 0.25em; line-height: 1; border-radius: 0.35em;\">\n",
       "    chocolate\n",
       "    <span style=\"font-size: 0.8em; font-weight: bold; line-height: 1; border-radius: 0.35em; vertical-align: middle; margin-left: 0.5rem\">FOOD</span>\n",
       "</mark>\n",
       " it's everywhere</div></span>"
      ],
      "text/plain": [
       "<IPython.core.display.HTML object>"
      ]
     },
     "metadata": {},
     "output_type": "display_data"
    },
    {
     "name": "stdout",
     "output_type": "stream",
     "text": [
      "Total Entities found:  (chocolate,)\n",
      "Highest correlated word 'trying': 0.3987879793293425 similarity rate\n",
      "Context of this sentence is not relevant to give a tip\n",
      "====================================================================================================\n"
     ]
    },
    {
     "data": {
      "text/html": [
       "<span class=\"tex2jax_ignore\"><div class=\"entities\" style=\"line-height: 2.5; direction: ltr\"> if ur home wednesday ill come or this weekend dude i really dont wanna go back to school tomorrow</div></span>"
      ],
      "text/plain": [
       "<IPython.core.display.HTML object>"
      ]
     },
     "metadata": {},
     "output_type": "display_data"
    },
    {
     "name": "stdout",
     "output_type": "stream",
     "text": [
      "Total Entities found:  ()\n",
      "No tips to give!\n",
      "====================================================================================================\n"
     ]
    },
    {
     "data": {
      "text/html": [
       "<span class=\"tex2jax_ignore\"><div class=\"entities\" style=\"line-height: 2.5; direction: ltr\"> it's still up for me but no 2010</div></span>"
      ],
      "text/plain": [
       "<IPython.core.display.HTML object>"
      ]
     },
     "metadata": {},
     "output_type": "display_data"
    },
    {
     "name": "stdout",
     "output_type": "stream",
     "text": [
      "Total Entities found:  ()\n",
      "No tips to give!\n",
      "====================================================================================================\n"
     ]
    },
    {
     "data": {
      "text/html": [
       "<span class=\"tex2jax_ignore\"><div class=\"entities\" style=\"line-height: 2.5; direction: ltr\">feels like family is getting closer i like it ps need flourrrr! i have an itch to bake something </div></span>"
      ],
      "text/plain": [
       "<IPython.core.display.HTML object>"
      ]
     },
     "metadata": {},
     "output_type": "display_data"
    },
    {
     "name": "stdout",
     "output_type": "stream",
     "text": [
      "Total Entities found:  ()\n",
      "No tips to give!\n",
      "====================================================================================================\n"
     ]
    },
    {
     "data": {
      "text/html": [
       "<span class=\"tex2jax_ignore\"><div class=\"entities\" style=\"line-height: 2.5; direction: ltr\"> not so good i think that's my fault though  didn't use \n",
       "<mark class=\"entity\" style=\"background: #ddd; padding: 0.45em 0.6em; margin: 0 0.25em; line-height: 1; border-radius: 0.35em;\">\n",
       "    buttermilk\n",
       "    <span style=\"font-size: 0.8em; font-weight: bold; line-height: 1; border-radius: 0.35em; vertical-align: middle; margin-left: 0.5rem\">FOOD</span>\n",
       "</mark>\n",
       " recipe was on back of the \n",
       "<mark class=\"entity\" style=\"background: #ddd; padding: 0.45em 0.6em; margin: 0 0.25em; line-height: 1; border-radius: 0.35em;\">\n",
       "    flour\n",
       "    <span style=\"font-size: 0.8em; font-weight: bold; line-height: 1; border-radius: 0.35em; vertical-align: middle; margin-left: 0.5rem\">FOOD</span>\n",
       "</mark>\n",
       "</div></span>"
      ],
      "text/plain": [
       "<IPython.core.display.HTML object>"
      ]
     },
     "metadata": {},
     "output_type": "display_data"
    },
    {
     "name": "stdout",
     "output_type": "stream",
     "text": [
      "Total Entities found:  (buttermilk, flour)\n",
      "Highest correlated word 'recipe': 1.0 similarity rate\n",
      "buttermilk\n",
      "['No Tip to give!']\n",
      "['The Date of Perish for Buttermilk is from 1 to 2 Weeks']\n",
      "['The Date of Perish for Buttermilk is 3 Months']\n",
      "flour\n",
      "['The Date of Perish for Flour is from 6 to 12 Months']\n",
      "['Flour can be stored after opened in the Refrigerate for 1 Year', 'Refrigerate is Year']\n",
      "['No Tip to give!']\n",
      "====================================================================================================\n"
     ]
    },
    {
     "data": {
      "text/html": [
       "<span class=\"tex2jax_ignore\"><div class=\"entities\" style=\"line-height: 2.5; direction: ltr\"> i have \n",
       "<mark class=\"entity\" style=\"background: #ddd; padding: 0.45em 0.6em; margin: 0 0.25em; line-height: 1; border-radius: 0.35em;\">\n",
       "    popcorn\n",
       "    <span style=\"font-size: 0.8em; font-weight: bold; line-height: 1; border-radius: 0.35em; vertical-align: middle; margin-left: 0.5rem\">FOOD</span>\n",
       "</mark>\n",
       " and fruitcake nowbut it's just not the same as \n",
       "<mark class=\"entity\" style=\"background: #ddd; padding: 0.45em 0.6em; margin: 0 0.25em; line-height: 1; border-radius: 0.35em;\">\n",
       "    chocolate\n",
       "    <span style=\"font-size: 0.8em; font-weight: bold; line-height: 1; border-radius: 0.35em; vertical-align: middle; margin-left: 0.5rem\">FOOD</span>\n",
       "</mark>\n",
       "</div></span>"
      ],
      "text/plain": [
       "<IPython.core.display.HTML object>"
      ]
     },
     "metadata": {},
     "output_type": "display_data"
    },
    {
     "name": "stdout",
     "output_type": "stream",
     "text": [
      "Total Entities found:  (popcorn, chocolate)\n",
      "Highest correlated word 'fruitcake': 0.5112564480543528 similarity rate\n",
      "Context of this sentence is not relevant to give a tip\n",
      "====================================================================================================\n"
     ]
    },
    {
     "data": {
      "text/html": [
       "<span class=\"tex2jax_ignore\"><div class=\"entities\" style=\"line-height: 2.5; direction: ltr\">garden going well almost all the corn and \n",
       "<mark class=\"entity\" style=\"background: #ddd; padding: 0.45em 0.6em; margin: 0 0.25em; line-height: 1; border-radius: 0.35em;\">\n",
       "    peas\n",
       "    <span style=\"font-size: 0.8em; font-weight: bold; line-height: 1; border-radius: 0.35em; vertical-align: middle; margin-left: 0.5rem\">FOOD</span>\n",
       "</mark>\n",
       " are up no \n",
       "<mark class=\"entity\" style=\"background: #ddd; padding: 0.45em 0.6em; margin: 0 0.25em; line-height: 1; border-radius: 0.35em;\">\n",
       "    onions\n",
       "    <span style=\"font-size: 0.8em; font-weight: bold; line-height: 1; border-radius: 0.35em; vertical-align: middle; margin-left: 0.5rem\">FOOD</span>\n",
       "</mark>\n",
       " or \n",
       "<mark class=\"entity\" style=\"background: #ddd; padding: 0.45em 0.6em; margin: 0 0.25em; line-height: 1; border-radius: 0.35em;\">\n",
       "    beets\n",
       "    <span style=\"font-size: 0.8em; font-weight: bold; line-height: 1; border-radius: 0.35em; vertical-align: middle; margin-left: 0.5rem\">FOOD</span>\n",
       "</mark>\n",
       " up yet though</div></span>"
      ],
      "text/plain": [
       "<IPython.core.display.HTML object>"
      ]
     },
     "metadata": {},
     "output_type": "display_data"
    },
    {
     "name": "stdout",
     "output_type": "stream",
     "text": [
      "Total Entities found:  (peas, onions, beets)\n",
      "Highest correlated word 'garden': 0.4448941229063069 similarity rate\n",
      "Context of this sentence is not relevant to give a tip\n",
      "====================================================================================================\n"
     ]
    },
    {
     "data": {
      "text/html": [
       "<span class=\"tex2jax_ignore\"><div class=\"entities\" style=\"line-height: 2.5; direction: ltr\"> he steals my stuff buries them under fence embarassing when it's the man returning them! not much i can do about frogs</div></span>"
      ],
      "text/plain": [
       "<IPython.core.display.HTML object>"
      ]
     },
     "metadata": {},
     "output_type": "display_data"
    },
    {
     "name": "stdout",
     "output_type": "stream",
     "text": [
      "Total Entities found:  ()\n",
      "No tips to give!\n",
      "====================================================================================================\n"
     ]
    }
   ],
   "source": [
    "%run food_item_info.ipynb\n",
    "%run evaluation_notebook.ipynb\n",
    "\n",
    "types = ['Pantry', 'Refrigerate', 'Freeze']\n",
    "tips = ''\n",
    "nlp = spacy.load(MODEL_PATH)\n",
    "allFoodTweets = [] \n",
    "rangeTweets = [40,50]\n",
    "\n",
    "# Getting all entities from each Spacy Document\n",
    "for i in range(rangeTweets[0], rangeTweets[1]):\n",
    "    myTweet = test_data['tweet'][i]\n",
    "    x = nlp(preProcess(myTweet))\n",
    "    allFoodTweets.append(x.doc.ents)\n",
    "    \n",
    "counter = rangeTweets[0]\n",
    "for entities in allFoodTweets:\n",
    "    if counter != rangeTweets[1]:\n",
    "        myTweet = test_data['tweet'][counter]\n",
    "        preprocessed_tweet = preProcess(myTweet)\n",
    "        ent_recognize(preprocessed_tweet)\n",
    "        print(\"Total Entities found: \", entities)\n",
    "        \n",
    "        generate_response(preprocessed_tweet, entities, thresh_value=0.85)\n",
    "        print('=' * 100)\n",
    "        \n",
    "        counter += 1"
   ]
  },
  {
   "cell_type": "code",
   "execution_count": null,
   "metadata": {},
   "outputs": [],
   "source": []
  },
  {
   "cell_type": "markdown",
   "metadata": {},
   "source": [
    "# Twitter API"
   ]
  },
  {
   "cell_type": "code",
   "execution_count": 15,
   "metadata": {},
   "outputs": [],
   "source": [
    "# import twint\n",
    "# import pandas as pd\n",
    "# from datetime import date\n",
    "\n",
    "# today = date.today()\n",
    "\n",
    "# c = twint.Config()\n",
    "# c.Lang = \"en\"\n",
    "# # c.Search = \"#foodwaste\" or \"#zerowaste\" or \"#sustainability\" or \"#ecofriendly\"\n",
    "# # c.Limit = 20\n",
    "# c.Username = \"edward09690585\"\n",
    "# c.Since = \"2017-1-1\"\n",
    "# c.until= today.strftime(\"%b-%d-%Y\")\n",
    "\n",
    "# c.Store_csv = True\n",
    "# c.Custom_csv = [\"date\", \"time\", \"username\", \"tweet\", \"link\", \"likes\", \"retweets\", \"replies\", \"mentions\", \"hashtags\"]\n",
    "# c.Pandas = True\n",
    "# c.Output = \"eco1friendly.csv\"\n",
    "\n",
    "# #dataframes.append(df)\n",
    "\n",
    "\n",
    "# twint.run.Search(c)"
   ]
  },
  {
   "cell_type": "code",
   "execution_count": 23,
   "metadata": {},
   "outputs": [
    {
     "data": {
      "text/html": [
       "<div>\n",
       "<style scoped>\n",
       "    .dataframe tbody tr th:only-of-type {\n",
       "        vertical-align: middle;\n",
       "    }\n",
       "\n",
       "    .dataframe tbody tr th {\n",
       "        vertical-align: top;\n",
       "    }\n",
       "\n",
       "    .dataframe thead th {\n",
       "        text-align: right;\n",
       "    }\n",
       "</style>\n",
       "<table border=\"1\" class=\"dataframe\">\n",
       "  <thead>\n",
       "    <tr style=\"text-align: right;\">\n",
       "      <th></th>\n",
       "      <th>id</th>\n",
       "      <th>conversation_id</th>\n",
       "      <th>created_at</th>\n",
       "      <th>date</th>\n",
       "      <th>time</th>\n",
       "      <th>timezone</th>\n",
       "      <th>user_id</th>\n",
       "      <th>username</th>\n",
       "      <th>name</th>\n",
       "      <th>place</th>\n",
       "      <th>...</th>\n",
       "      <th>geo</th>\n",
       "      <th>source</th>\n",
       "      <th>user_rt_id</th>\n",
       "      <th>user_rt</th>\n",
       "      <th>retweet_id</th>\n",
       "      <th>reply_to</th>\n",
       "      <th>retweet_date</th>\n",
       "      <th>translate</th>\n",
       "      <th>trans_src</th>\n",
       "      <th>trans_dest</th>\n",
       "    </tr>\n",
       "  </thead>\n",
       "  <tbody>\n",
       "    <tr>\n",
       "      <th>0</th>\n",
       "      <td>1511205194175942659</td>\n",
       "      <td>1511205194175942659</td>\n",
       "      <td>2022-04-04 21:52:49 Pacific Daylight Time</td>\n",
       "      <td>2022-04-04</td>\n",
       "      <td>21:52:49</td>\n",
       "      <td>-700</td>\n",
       "      <td>1511082642589986819</td>\n",
       "      <td>edward09690585</td>\n",
       "      <td>edward</td>\n",
       "      <td>NaN</td>\n",
       "      <td>...</td>\n",
       "      <td>NaN</td>\n",
       "      <td>NaN</td>\n",
       "      <td>NaN</td>\n",
       "      <td>NaN</td>\n",
       "      <td>NaN</td>\n",
       "      <td>[]</td>\n",
       "      <td>NaN</td>\n",
       "      <td>NaN</td>\n",
       "      <td>NaN</td>\n",
       "      <td>NaN</td>\n",
       "    </tr>\n",
       "    <tr>\n",
       "      <th>1</th>\n",
       "      <td>1511204037223337986</td>\n",
       "      <td>1511204037223337986</td>\n",
       "      <td>2022-04-04 21:48:13 Pacific Daylight Time</td>\n",
       "      <td>2022-04-04</td>\n",
       "      <td>21:48:13</td>\n",
       "      <td>-700</td>\n",
       "      <td>1511082642589986819</td>\n",
       "      <td>edward09690585</td>\n",
       "      <td>edward</td>\n",
       "      <td>NaN</td>\n",
       "      <td>...</td>\n",
       "      <td>NaN</td>\n",
       "      <td>NaN</td>\n",
       "      <td>NaN</td>\n",
       "      <td>NaN</td>\n",
       "      <td>NaN</td>\n",
       "      <td>[]</td>\n",
       "      <td>NaN</td>\n",
       "      <td>NaN</td>\n",
       "      <td>NaN</td>\n",
       "      <td>NaN</td>\n",
       "    </tr>\n",
       "    <tr>\n",
       "      <th>2</th>\n",
       "      <td>1511203496317505538</td>\n",
       "      <td>1511203496317505538</td>\n",
       "      <td>2022-04-04 21:46:04 Pacific Daylight Time</td>\n",
       "      <td>2022-04-04</td>\n",
       "      <td>21:46:04</td>\n",
       "      <td>-700</td>\n",
       "      <td>1511082642589986819</td>\n",
       "      <td>edward09690585</td>\n",
       "      <td>edward</td>\n",
       "      <td>NaN</td>\n",
       "      <td>...</td>\n",
       "      <td>NaN</td>\n",
       "      <td>NaN</td>\n",
       "      <td>NaN</td>\n",
       "      <td>NaN</td>\n",
       "      <td>NaN</td>\n",
       "      <td>[]</td>\n",
       "      <td>NaN</td>\n",
       "      <td>NaN</td>\n",
       "      <td>NaN</td>\n",
       "      <td>NaN</td>\n",
       "    </tr>\n",
       "  </tbody>\n",
       "</table>\n",
       "<p>3 rows × 36 columns</p>\n",
       "</div>"
      ],
      "text/plain": [
       "                    id      conversation_id  \\\n",
       "0  1511205194175942659  1511205194175942659   \n",
       "1  1511204037223337986  1511204037223337986   \n",
       "2  1511203496317505538  1511203496317505538   \n",
       "\n",
       "                                  created_at        date      time  timezone  \\\n",
       "0  2022-04-04 21:52:49 Pacific Daylight Time  2022-04-04  21:52:49      -700   \n",
       "1  2022-04-04 21:48:13 Pacific Daylight Time  2022-04-04  21:48:13      -700   \n",
       "2  2022-04-04 21:46:04 Pacific Daylight Time  2022-04-04  21:46:04      -700   \n",
       "\n",
       "               user_id        username    name  place  ... geo source  \\\n",
       "0  1511082642589986819  edward09690585  edward    NaN  ... NaN    NaN   \n",
       "1  1511082642589986819  edward09690585  edward    NaN  ... NaN    NaN   \n",
       "2  1511082642589986819  edward09690585  edward    NaN  ... NaN    NaN   \n",
       "\n",
       "  user_rt_id user_rt retweet_id  reply_to  retweet_date  translate trans_src  \\\n",
       "0        NaN     NaN        NaN        []           NaN        NaN       NaN   \n",
       "1        NaN     NaN        NaN        []           NaN        NaN       NaN   \n",
       "2        NaN     NaN        NaN        []           NaN        NaN       NaN   \n",
       "\n",
       "  trans_dest  \n",
       "0        NaN  \n",
       "1        NaN  \n",
       "2        NaN  \n",
       "\n",
       "[3 rows x 36 columns]"
      ]
     },
     "execution_count": 23,
     "metadata": {},
     "output_type": "execute_result"
    }
   ],
   "source": [
    "import pandas as pd\n",
    "\n",
    "LIVE_TWITTER_DATA_PATH = \"eco1friendly.csv\"\n",
    "\n",
    "recent_tweets = pd.read_csv(LIVE_TWITTER_DATA_PATH)\n",
    "recent_tweets.head()"
   ]
  },
  {
   "cell_type": "code",
   "execution_count": 24,
   "metadata": {},
   "outputs": [
    {
     "data": {
      "text/plain": [
       "0    I had this amazing watermelon for a snack toda...\n",
       "1    Does anyone know how long it takes for milk to...\n",
       "2    I had eggs and bacon for breakfast, it was del...\n",
       "Name: tweet, dtype: object"
      ]
     },
     "execution_count": 24,
     "metadata": {},
     "output_type": "execute_result"
    }
   ],
   "source": [
    "new_data = recent_tweets['tweet']\n",
    "new_data.head()\n"
   ]
  },
  {
   "cell_type": "code",
   "execution_count": 18,
   "metadata": {},
   "outputs": [],
   "source": [
    "import re\n",
    "def preProcessLocal(tweet):\n",
    "    #Converts a tweet to lowercase, replaces anyusername w/ <USERNAME> and URLS with <URL>\n",
    "    tweet = tweet.lower()\n",
    "    tweet = re.sub('@[a-zA-z0-9]*', '', tweet)              # <USERNAME>\n",
    "    tweet = re.sub('http[a-zA-z0-9./:]*', '', tweet)       # <URL>\n",
    "    tweet = re.sub('[.,-]*', '', tweet)\n",
    "    \n",
    "    # Utilize for instragram posts, remove hashtag for food-related posts\n",
    "    tweet = re.sub(r'#[a-zA-z0-9]*', '', tweet)\n",
    "    # tweet = re.sub(r'#', '', tweet) \n",
    "    \n",
    "    tweet = re.sub('&amp;', 'and', tweet)\n",
    "    return tweet\n",
    "# print(preProcessLocal(recent_tweets['tweet'][0]))"
   ]
  },
  {
   "cell_type": "code",
   "execution_count": 35,
   "metadata": {},
   "outputs": [
    {
     "data": {
      "text/html": [
       "<span class=\"tex2jax_ignore\"><div class=\"entities\" style=\"line-height: 2.5; direction: ltr\">i had this amazing \n",
       "<mark class=\"entity\" style=\"background: #ddd; padding: 0.45em 0.6em; margin: 0 0.25em; line-height: 1; border-radius: 0.35em;\">\n",
       "    watermelon\n",
       "    <span style=\"font-size: 0.8em; font-weight: bold; line-height: 1; border-radius: 0.35em; vertical-align: middle; margin-left: 0.5rem\">FOOD</span>\n",
       "</mark>\n",
       " for a snack today! i only ate half of it not sure what to do with the rest     🍉</div></span>"
      ],
      "text/plain": [
       "<IPython.core.display.HTML object>"
      ]
     },
     "metadata": {},
     "output_type": "display_data"
    },
    {
     "name": "stdout",
     "output_type": "stream",
     "text": [
      "Total Entities found:  (watermelon,)\n",
      "watermelon\n",
      "['The Date of Perish for Watermelon is from 1 to 2 Days', 'A Watermelon tip about the Date of Perish is Or until ripe.']\n",
      "['The Date of Perish for Watermelon is from 3 to 4 Days']\n",
      "['Watermelon can be stored in the Freeze for 12 Months']\n"
     ]
    }
   ],
   "source": [
    "nlp = spacy.load(MODEL_PATH)\n",
    "allFoodTweets = []\n",
    "allTips = []\n",
    "tipsByItem = {}\n",
    "# rangeTweets = [150,155]\n",
    "rangeTweets = [0,1]\n",
    "for i in range(rangeTweets[0], rangeTweets[1]):\n",
    "    myTweet = recent_tweets['tweet'][i]\n",
    "    x = nlp(preProcessLocal(myTweet))\n",
    "    allFoodTweets.append(x.doc.ents)\n",
    "\n",
    "counter = rangeTweets[0]\n",
    "for entities in allFoodTweets:\n",
    "    if counter != rangeTweets[1]:\n",
    "        myTweet = recent_tweets['tweet'][counter]\n",
    "        ent_recognize(preProcessLocal(myTweet))\n",
    "        print(\"Total Entities found: \", entities)\n",
    "        counter += 1\n",
    "    for e in entities:\n",
    "        item = repr(e)\n",
    "        print(item)\n",
    "        if entityFound(item):\n",
    "            for t in types:\n",
    "                allTips.append(foodStorage(item, t))\n",
    "                print(foodStorage(item, t))\n",
    "        else: print('entity not found!')"
   ]
  },
  {
   "cell_type": "code",
   "execution_count": 20,
   "metadata": {},
   "outputs": [
    {
     "name": "stdout",
     "output_type": "stream",
     "text": [
      "[['No Tip to give!'], ['Refrigerate is Package use-by date'], ['The Date of Perish for Milk is 3 Months']]\n"
     ]
    }
   ],
   "source": [
    "print(allTips)"
   ]
  },
  {
   "cell_type": "code",
   "execution_count": 38,
   "metadata": {},
   "outputs": [
    {
     "name": "stdout",
     "output_type": "stream",
     "text": [
      "The Date of Perish for Watermelon is from 1 to 2 Days. A Watermelon tip about the Date of Perish is Or until ripe.. The Date of Perish for Watermelon is from 3 to 4 Days. Watermelon can be stored in the Freeze for 12 Months. \n",
      "Char Count:  225\n",
      "Response(data={'id': '1511212210587983872', 'text': '@edward09690585 The Date of Perish for Watermelon is from 1 to 2 Days. A Watermelon tip about the Date of Perish is Or until ripe.. The Date of Perish for Watermelon is from 3 to 4 Days. Watermelon can be stored in the Freeze for 12 Months.  - USDA FoodKeeper Tips'}, includes={}, errors=[], meta={})\n"
     ]
    }
   ],
   "source": [
    "import tweepy\n",
    "\n",
    "BEARER_TOKEN = 'AAAAAAAAAAAAAAAAAAAAABo6aAEAAAAA%2F0WLmPGia05j9gEC2CFXG0OsJlk%3DlvFsgAI9eeHUlIAQl371gYanqn0h6Eaf5VqNjBO4tmSugGFhxA'\n",
    "\n",
    "API_KEY = 'FzCPF6KXbHSXtgWW90dWkwceU'\n",
    "API_SECRET_KEY = 'SsVhnggj0TJN3DZ0yEJajJVUT9M2xkfghaUaF2iw6HfCr00qhf'\n",
    "\n",
    "ACCESS_TOKEN = '1501693154507968514-o5KYtx4GOTX7FPj1OHINQU2q1J50KU'\n",
    "ACCESS_SECRET_TOKEN = '1ZYbyPj5qN35kOVZ4R8JHEQq0ChroueMd15Q9UIzOTiTG'\n",
    "\n",
    "client = tweepy.Client(\n",
    "    bearer_token= BEARER_TOKEN,\n",
    "    consumer_key = API_KEY,\n",
    "    consumer_secret = API_SECRET_KEY,\n",
    "    access_token = ACCESS_TOKEN,\n",
    "    access_token_secret = ACCESS_SECRET_TOKEN\n",
    ")\n",
    "\n",
    "# find tweet by id\n",
    "# tweet = client.get_tweet(id=1511098408768995332)\n",
    "\n",
    "# extract data from tweet\n",
    "# text = tweet.data\n",
    "# print(text)\n",
    "userNames = '@' + recent_tweets['username'][0] + ' '\n",
    "results = ''\n",
    "# print(results)\n",
    "# dict = {'item' : 'tip'}\n",
    "for tips in allTips:\n",
    "    for t in tips:\n",
    "        if t != 'No Tip to give!':\n",
    "            results += t + '. '\n",
    "    # res = client.create_tweet(text=results)\n",
    "    # print(res)\n",
    "\n",
    "new_food_tweet = client.create_tweet(text=userNames + results + ' - USDA FoodKeeper Tips')\n",
    "print(results)\n",
    "print('Char Count: ', len(results))\n",
    "# new_food_tweet = client.create_tweet(text=results)\n",
    "\n",
    "print(new_food_tweet)\n",
    "\n",
    "# Authenticate to Twitter\n",
    "# auth = tweepy.OAuthHandler(API_KEY, API_SECRET_KEY)\n",
    "# auth.set_access_token(ACCESS_TOKEN, ACCESS_SECRET_TOKEN)\n",
    "\n",
    "# api = tweepy.API(auth)\n",
    "\n",
    "# public = api.home_timeline()\n",
    "# print(public[0].text)\n",
    "\n",
    "# try:\n",
    "#     api.verify_credentials()\n",
    "#     print(\"Authentication OK\")\n",
    "# except:\n",
    "#     print(\"Error during authentication\")\n",
    "\n",
    "# results = ''\n",
    "# for tips in allTips:\n",
    "#     # print(tips)\n",
    "#     for t in tips:\n",
    "#         # print(t)\n",
    "#         results += t + ' '\n",
    "# res = user.create_tweet(text=results)\n",
    "# print(res)\n",
    "# id = res.data[\"id\"]\n",
    "# user.retweet(tweet_id=id)\n",
    "# user.like(tweet_id=id)\n",
    "# print(recent_tweets['id'][0])\n",
    "# 1511098408768995332\n",
    "# 1511082996648259585\n",
    "# 1511098408768995332\n",
    "# data = user.get_tweet(1511098408768995332)\n",
    "# data = user.get_tweets(ids=1511098408768995332)\n",
    "# print(recent_tweets['username'][0])\n",
    "# u = str(recent_tweets['username'][0])\n",
    "# data = user.get_user(u)\n",
    "# id = 1511082996648259585\n",
    "# tweet = user.get_tweet(id, expansions=['author_id'], user_fields=['username'])\n",
    "# test = user.follow_user\n",
    "# print(data)\n",
    "# data = user.get_users_tweets(id=recent_tweets['id'][0])\n",
    "# print(data)\n"
   ]
  }
 ],
 "metadata": {
  "interpreter": {
   "hash": "b3ba2566441a7c06988d0923437866b63cedc61552a5af99d1f4fb67d367b25f"
  },
  "kernelspec": {
   "display_name": "Python 3 (ipykernel)",
   "language": "python",
   "name": "python3"
  },
  "language_info": {
   "codemirror_mode": {
    "name": "ipython",
    "version": 3
   },
   "file_extension": ".py",
   "mimetype": "text/x-python",
   "name": "python",
   "nbconvert_exporter": "python",
   "pygments_lexer": "ipython3",
   "version": "3.9.13"
  }
 },
 "nbformat": 4,
 "nbformat_minor": 2
}
