{
 "cells": [
  {
   "cell_type": "code",
   "execution_count": 117,
   "metadata": {},
   "outputs": [
    {
     "data": {
      "text/html": [
       "<span class=\"tex2jax_ignore\"><div class=\"entities\" style=\"line-height: 2.5; direction: ltr\">mashed hard boiled \n",
       "<mark class=\"entity\" style=\"background: #ddd; padding: 0.45em 0.6em; margin: 0 0.25em; line-height: 1; border-radius: 0.35em;\">\n",
       "    eggs\n",
       "    <span style=\"font-size: 0.8em; font-weight: bold; line-height: 1; border-radius: 0.35em; vertical-align: middle; margin-left: 0.5rem\">FOOD</span>\n",
       "</mark>\n",
       " + farmer's \n",
       "<mark class=\"entity\" style=\"background: #ddd; padding: 0.45em 0.6em; margin: 0 0.25em; line-height: 1; border-radius: 0.35em;\">\n",
       "    ham\n",
       "    <span style=\"font-size: 0.8em; font-weight: bold; line-height: 1; border-radius: 0.35em; vertical-align: middle; margin-left: 0.5rem\">FOOD</span>\n",
       "</mark>\n",
       " scraps + hickory \n",
       "<mark class=\"entity\" style=\"background: #ddd; padding: 0.45em 0.6em; margin: 0 0.25em; line-height: 1; border-radius: 0.35em;\">\n",
       "    bacon bits\n",
       "    <span style=\"font-size: 0.8em; font-weight: bold; line-height: 1; border-radius: 0.35em; vertical-align: middle; margin-left: 0.5rem\">FOOD</span>\n",
       "</mark>\n",
       " + \n",
       "<mark class=\"entity\" style=\"background: #ddd; padding: 0.45em 0.6em; margin: 0 0.25em; line-height: 1; border-radius: 0.35em;\">\n",
       "    cream cheese\n",
       "    <span style=\"font-size: 0.8em; font-weight: bold; line-height: 1; border-radius: 0.35em; vertical-align: middle; margin-left: 0.5rem\">FOOD</span>\n",
       "</mark>\n",
       " + \n",
       "<mark class=\"entity\" style=\"background: #ddd; padding: 0.45em 0.6em; margin: 0 0.25em; line-height: 1; border-radius: 0.35em;\">\n",
       "    honey\n",
       "    <span style=\"font-size: 0.8em; font-weight: bold; line-height: 1; border-radius: 0.35em; vertical-align: middle; margin-left: 0.5rem\">FOOD</span>\n",
       "</mark>\n",
       " dijon dressing = my delectable breakfast</div></span>"
      ],
      "text/plain": [
       "<IPython.core.display.HTML object>"
      ]
     },
     "metadata": {},
     "output_type": "display_data"
    },
    {
     "name": "stdout",
     "output_type": "stream",
     "text": [
      "Total Entities found:  (eggs, ham, bacon bits, cream cheese, honey)\n",
      "eggs\n",
      "['No Tip to give!']\n",
      "['The Date of Perish for Eggs is from 3 to 5 Weeks']\n",
      "['Freeze is Not Recommended']\n",
      "ham\n",
      "['No Tip to give!']\n",
      "['The Date of Perish for Ham is from 6 to 9 Months']\n",
      "['Freeze is Not Recommended']\n",
      "bacon bits\n",
      "['The Date of Perish for Bacon bits is 1 Years']\n",
      "['Refrigerate is Package use-by date']\n",
      "['No Tip to give!']\n",
      "cream cheese\n",
      "['No Tip to give!']\n",
      "['The Date of Perish for Cream cheese is 2 Weeks']\n",
      "['Freeze is Not Recommended']\n",
      "honey\n",
      "['The Date of Perish for Honey is 2 Years']\n",
      "['No Tip to give!']\n",
      "['No Tip to give!']\n"
     ]
    },
    {
     "data": {
      "text/html": [
       "<span class=\"tex2jax_ignore\"><div class=\"entities\" style=\"line-height: 2.5; direction: ltr\">i made twice baked \n",
       "<mark class=\"entity\" style=\"background: #ddd; padding: 0.45em 0.6em; margin: 0 0.25em; line-height: 1; border-radius: 0.35em;\">\n",
       "    potatoes\n",
       "    <span style=\"font-size: 0.8em; font-weight: bold; line-height: 1; border-radius: 0.35em; vertical-align: middle; margin-left: 0.5rem\">FOOD</span>\n",
       "</mark>\n",
       " broccoli and \n",
       "<mark class=\"entity\" style=\"background: #ddd; padding: 0.45em 0.6em; margin: 0 0.25em; line-height: 1; border-radius: 0.35em;\">\n",
       "    tomato salad\n",
       "    <span style=\"font-size: 0.8em; font-weight: bold; line-height: 1; border-radius: 0.35em; vertical-align: middle; margin-left: 0.5rem\">FOOD</span>\n",
       "</mark>\n",
       " with my blue \n",
       "<mark class=\"entity\" style=\"background: #ddd; padding: 0.45em 0.6em; margin: 0 0.25em; line-height: 1; border-radius: 0.35em;\">\n",
       "    cheese\n",
       "    <span style=\"font-size: 0.8em; font-weight: bold; line-height: 1; border-radius: 0.35em; vertical-align: middle; margin-left: 0.5rem\">FOOD</span>\n",
       "</mark>\n",
       " dressing and \n",
       "<mark class=\"entity\" style=\"background: #ddd; padding: 0.45em 0.6em; margin: 0 0.25em; line-height: 1; border-radius: 0.35em;\">\n",
       "    lamb\n",
       "    <span style=\"font-size: 0.8em; font-weight: bold; line-height: 1; border-radius: 0.35em; vertical-align: middle; margin-left: 0.5rem\">FOOD</span>\n",
       "</mark>\n",
       " chops for dinner damn i'm good</div></span>"
      ],
      "text/plain": [
       "<IPython.core.display.HTML object>"
      ]
     },
     "metadata": {},
     "output_type": "display_data"
    },
    {
     "name": "stdout",
     "output_type": "stream",
     "text": [
      "Total Entities found:  (potatoes, tomato salad, cheese, lamb)\n",
      "potatoes\n",
      "['A tip about Potatoes is that This is the recommended storage method for whole potatoes.', 'The Date of Perish for Potatoes is from 1 to 2 Months']\n",
      "['A tip about Potatoes is that The United States Potato Board notes refrigeration can cause potatoes to darken during cooking and to develop an unpleasantly sweet taste.', 'The Date of Perish for Potatoes is from 1 to 2 Weeks']\n",
      "['Potatoes can be stored in the Freeze for 10 to 12 Months', 'A tip about Potatoes is that Freezer timeline applies to cooked and mashed potatoes.']\n",
      "tomato salad\n",
      "entity not found!\n",
      "cheese\n",
      "['No Tip to give!']\n",
      "['The Date of Perish for Cheese is 6 Months', 'Cheese can be stored after opened in the Refrigerate for 3 to 4 Weeks']\n",
      "['The Date of Perish for Cheese is 6 Months']\n",
      "lamb\n",
      "['No Tip to give!']\n",
      "['The Date of Perish for Lamb is from 3 to 5 Days']\n",
      "['The Date of Perish for Lamb is from 4 to 12 Months']\n"
     ]
    }
   ],
   "source": [
    "%run food_item_info.ipynb\n",
    "%run evaluation_notebook.ipynb\n",
    "import random\n",
    "types = ['Pantry', 'Refrigerate', 'Freeze']\n",
    "\n",
    "nlp = spacy.load(MODEL_PATH)\n",
    "allFoodTweets = []\n",
    "rangeTweets = [5,7]\n",
    "for i in range(rangeTweets[0], rangeTweets[1]):\n",
    "    myTweet = test_data['tweet'][i]\n",
    "    x = nlp(preProcess(myTweet))\n",
    "    # splitSent = myTweet.split()\n",
    "    allFoodTweets.append(x.doc.ents)\n",
    "\n",
    "counter = rangeTweets[0]\n",
    "for entities in allFoodTweets:\n",
    "    if counter != rangeTweets[1]:\n",
    "        myTweet = test_data['tweet'][counter]\n",
    "        ent_recognize(preProcess(myTweet))\n",
    "        print(\"Total Entities found: \", entities)\n",
    "        counter += 1\n",
    "    for e in entities:\n",
    "        item = repr(e)\n",
    "        print(item)\n",
    "        if entityFound(item):\n",
    "            for t in types: print(foodStorage(item, t))\n",
    "        else: print('entity not found!')\n",
    "\n",
    "# displayTipsByTweet(test_data)"
   ]
  },
  {
   "cell_type": "code",
   "execution_count": 107,
   "metadata": {},
   "outputs": [
    {
     "data": {
      "text/html": [
       "<div>\n",
       "<style scoped>\n",
       "    .dataframe tbody tr th:only-of-type {\n",
       "        vertical-align: middle;\n",
       "    }\n",
       "\n",
       "    .dataframe tbody tr th {\n",
       "        vertical-align: top;\n",
       "    }\n",
       "\n",
       "    .dataframe thead th {\n",
       "        text-align: right;\n",
       "    }\n",
       "</style>\n",
       "<table border=\"1\" class=\"dataframe\">\n",
       "  <thead>\n",
       "    <tr style=\"text-align: right;\">\n",
       "      <th></th>\n",
       "      <th>id</th>\n",
       "      <th>conversation_id</th>\n",
       "      <th>created_at</th>\n",
       "      <th>date</th>\n",
       "      <th>time</th>\n",
       "      <th>timezone</th>\n",
       "      <th>user_id</th>\n",
       "      <th>username</th>\n",
       "      <th>name</th>\n",
       "      <th>place</th>\n",
       "      <th>...</th>\n",
       "      <th>geo</th>\n",
       "      <th>source</th>\n",
       "      <th>user_rt_id</th>\n",
       "      <th>user_rt</th>\n",
       "      <th>retweet_id</th>\n",
       "      <th>reply_to</th>\n",
       "      <th>retweet_date</th>\n",
       "      <th>translate</th>\n",
       "      <th>trans_src</th>\n",
       "      <th>trans_dest</th>\n",
       "    </tr>\n",
       "  </thead>\n",
       "  <tbody>\n",
       "    <tr>\n",
       "      <th>0</th>\n",
       "      <td>1509622830111019009</td>\n",
       "      <td>1509622830111019009</td>\n",
       "      <td>2022-03-31 13:05:04 Pacific Daylight Time</td>\n",
       "      <td>2022-03-31</td>\n",
       "      <td>13:05:04</td>\n",
       "      <td>-700</td>\n",
       "      <td>1493744544420007936</td>\n",
       "      <td>fiskeratiblog</td>\n",
       "      <td>Fiskerati</td>\n",
       "      <td>NaN</td>\n",
       "      <td>...</td>\n",
       "      <td>NaN</td>\n",
       "      <td>NaN</td>\n",
       "      <td>NaN</td>\n",
       "      <td>NaN</td>\n",
       "      <td>NaN</td>\n",
       "      <td>[]</td>\n",
       "      <td>NaN</td>\n",
       "      <td>NaN</td>\n",
       "      <td>NaN</td>\n",
       "      <td>NaN</td>\n",
       "    </tr>\n",
       "    <tr>\n",
       "      <th>1</th>\n",
       "      <td>1509621829861793796</td>\n",
       "      <td>1509621829861793796</td>\n",
       "      <td>2022-03-31 13:01:06 Pacific Daylight Time</td>\n",
       "      <td>2022-03-31</td>\n",
       "      <td>13:01:06</td>\n",
       "      <td>-700</td>\n",
       "      <td>10286782</td>\n",
       "      <td>earth911</td>\n",
       "      <td>Earth911.com</td>\n",
       "      <td>NaN</td>\n",
       "      <td>...</td>\n",
       "      <td>NaN</td>\n",
       "      <td>NaN</td>\n",
       "      <td>NaN</td>\n",
       "      <td>NaN</td>\n",
       "      <td>NaN</td>\n",
       "      <td>[]</td>\n",
       "      <td>NaN</td>\n",
       "      <td>NaN</td>\n",
       "      <td>NaN</td>\n",
       "      <td>NaN</td>\n",
       "    </tr>\n",
       "    <tr>\n",
       "      <th>2</th>\n",
       "      <td>1509621757380018195</td>\n",
       "      <td>1509621757380018195</td>\n",
       "      <td>2022-03-31 13:00:49 Pacific Daylight Time</td>\n",
       "      <td>2022-03-31</td>\n",
       "      <td>13:00:49</td>\n",
       "      <td>-700</td>\n",
       "      <td>1234114342200762368</td>\n",
       "      <td>khsrc1</td>\n",
       "      <td>Koala History and Sustainability Research Cluster</td>\n",
       "      <td>NaN</td>\n",
       "      <td>...</td>\n",
       "      <td>NaN</td>\n",
       "      <td>NaN</td>\n",
       "      <td>NaN</td>\n",
       "      <td>NaN</td>\n",
       "      <td>NaN</td>\n",
       "      <td>[]</td>\n",
       "      <td>NaN</td>\n",
       "      <td>NaN</td>\n",
       "      <td>NaN</td>\n",
       "      <td>NaN</td>\n",
       "    </tr>\n",
       "    <tr>\n",
       "      <th>3</th>\n",
       "      <td>1509620267961577473</td>\n",
       "      <td>1509620267961577473</td>\n",
       "      <td>2022-03-31 12:54:53 Pacific Daylight Time</td>\n",
       "      <td>2022-03-31</td>\n",
       "      <td>12:54:53</td>\n",
       "      <td>-700</td>\n",
       "      <td>18028541</td>\n",
       "      <td>biofriendly</td>\n",
       "      <td>Biofriendly</td>\n",
       "      <td>NaN</td>\n",
       "      <td>...</td>\n",
       "      <td>NaN</td>\n",
       "      <td>NaN</td>\n",
       "      <td>NaN</td>\n",
       "      <td>NaN</td>\n",
       "      <td>NaN</td>\n",
       "      <td>[]</td>\n",
       "      <td>NaN</td>\n",
       "      <td>NaN</td>\n",
       "      <td>NaN</td>\n",
       "      <td>NaN</td>\n",
       "    </tr>\n",
       "    <tr>\n",
       "      <th>4</th>\n",
       "      <td>1509619486122520587</td>\n",
       "      <td>1509619486122520587</td>\n",
       "      <td>2022-03-31 12:51:47 Pacific Daylight Time</td>\n",
       "      <td>2022-03-31</td>\n",
       "      <td>12:51:47</td>\n",
       "      <td>-700</td>\n",
       "      <td>223164111</td>\n",
       "      <td>atena1978</td>\n",
       "      <td>Sara Montero Dueñas</td>\n",
       "      <td>NaN</td>\n",
       "      <td>...</td>\n",
       "      <td>NaN</td>\n",
       "      <td>NaN</td>\n",
       "      <td>NaN</td>\n",
       "      <td>NaN</td>\n",
       "      <td>NaN</td>\n",
       "      <td>[]</td>\n",
       "      <td>NaN</td>\n",
       "      <td>NaN</td>\n",
       "      <td>NaN</td>\n",
       "      <td>NaN</td>\n",
       "    </tr>\n",
       "  </tbody>\n",
       "</table>\n",
       "<p>5 rows × 36 columns</p>\n",
       "</div>"
      ],
      "text/plain": [
       "                    id      conversation_id  \\\n",
       "0  1509622830111019009  1509622830111019009   \n",
       "1  1509621829861793796  1509621829861793796   \n",
       "2  1509621757380018195  1509621757380018195   \n",
       "3  1509620267961577473  1509620267961577473   \n",
       "4  1509619486122520587  1509619486122520587   \n",
       "\n",
       "                                  created_at        date      time  timezone  \\\n",
       "0  2022-03-31 13:05:04 Pacific Daylight Time  2022-03-31  13:05:04      -700   \n",
       "1  2022-03-31 13:01:06 Pacific Daylight Time  2022-03-31  13:01:06      -700   \n",
       "2  2022-03-31 13:00:49 Pacific Daylight Time  2022-03-31  13:00:49      -700   \n",
       "3  2022-03-31 12:54:53 Pacific Daylight Time  2022-03-31  12:54:53      -700   \n",
       "4  2022-03-31 12:51:47 Pacific Daylight Time  2022-03-31  12:51:47      -700   \n",
       "\n",
       "               user_id       username  \\\n",
       "0  1493744544420007936  fiskeratiblog   \n",
       "1             10286782       earth911   \n",
       "2  1234114342200762368         khsrc1   \n",
       "3             18028541    biofriendly   \n",
       "4            223164111      atena1978   \n",
       "\n",
       "                                                name place  ... geo source  \\\n",
       "0                                          Fiskerati   NaN  ... NaN    NaN   \n",
       "1                                       Earth911.com   NaN  ... NaN    NaN   \n",
       "2  Koala History and Sustainability Research Cluster   NaN  ... NaN    NaN   \n",
       "3                                        Biofriendly   NaN  ... NaN    NaN   \n",
       "4                                Sara Montero Dueñas   NaN  ... NaN    NaN   \n",
       "\n",
       "  user_rt_id user_rt retweet_id  reply_to  retweet_date  translate trans_src  \\\n",
       "0        NaN     NaN        NaN        []           NaN        NaN       NaN   \n",
       "1        NaN     NaN        NaN        []           NaN        NaN       NaN   \n",
       "2        NaN     NaN        NaN        []           NaN        NaN       NaN   \n",
       "3        NaN     NaN        NaN        []           NaN        NaN       NaN   \n",
       "4        NaN     NaN        NaN        []           NaN        NaN       NaN   \n",
       "\n",
       "  trans_dest  \n",
       "0        NaN  \n",
       "1        NaN  \n",
       "2        NaN  \n",
       "3        NaN  \n",
       "4        NaN  \n",
       "\n",
       "[5 rows x 36 columns]"
      ]
     },
     "execution_count": 107,
     "metadata": {},
     "output_type": "execute_result"
    }
   ],
   "source": [
    "import pandas as pd\n",
    "\n",
    "LIVE_TWITTER_DATA_PATH = \"eco1friendly.csv\"\n",
    "\n",
    "recent_tweets = pd.read_csv(LIVE_TWITTER_DATA_PATH)\n",
    "recent_tweets.head()"
   ]
  },
  {
   "cell_type": "code",
   "execution_count": 118,
   "metadata": {},
   "outputs": [
    {
     "data": {
      "text/plain": [
       "0    Fisker’s Latest Visit to Magna Steyr Shows CO2...\n",
       "1    During my childhood, when someone in the famil...\n",
       "2    Thank you, Gabi, for pointing this crowd out. ...\n",
       "3    Why Kids (and Parents) Need to Spend More Time...\n",
       "4    Hoy os traigo una novedad #ecofriendly. Discos...\n",
       "Name: tweet, dtype: object"
      ]
     },
     "execution_count": 118,
     "metadata": {},
     "output_type": "execute_result"
    }
   ],
   "source": [
    "new_data = recent_tweets['tweet']\n",
    "new_data.head()\n"
   ]
  },
  {
   "cell_type": "code",
   "execution_count": 137,
   "metadata": {},
   "outputs": [],
   "source": [
    "import re\n",
    "def preProcessLocal(tweet):\n",
    "    #Converts a tweet to lowercase, replaces anyusername w/ <USERNAME> and URLS with <URL>\n",
    "    tweet = tweet.lower()\n",
    "    tweet = re.sub('@[a-zA-z0-9]*', '', tweet)              # <USERNAME>\n",
    "    tweet = re.sub('http[a-zA-z0-9./:]*', '', tweet)       # <URL>\n",
    "    tweet = re.sub('[.,-]*', '', tweet)\n",
    "    \n",
    "    # Utilize for instragram posts, remove hashtag for food-related posts\n",
    "    tweet = re.sub(r'#[a-zA-z0-9]*', '', tweet)\n",
    "    # tweet = re.sub(r'#', '', tweet) \n",
    "    \n",
    "    tweet = re.sub('&amp;', 'and', tweet)\n",
    "    return tweet\n",
    "# print(preProcessLocal(recent_tweets['tweet'][0]))"
   ]
  },
  {
   "cell_type": "code",
   "execution_count": 142,
   "metadata": {},
   "outputs": [
    {
     "data": {
      "text/html": [
       "<span class=\"tex2jax_ignore\"><div class=\"entities\" style=\"line-height: 2.5; direction: ltr\">\n",
       "<mark class=\"entity\" style=\"background: #ddd; padding: 0.45em 0.6em; margin: 0 0.25em; line-height: 1; border-radius: 0.35em;\">\n",
       "    milk\n",
       "    <span style=\"font-size: 0.8em; font-weight: bold; line-height: 1; border-radius: 0.35em; vertical-align: middle; margin-left: 0.5rem\">FOOD</span>\n",
       "</mark>\n",
       " jugs aluminum bowls \n",
       "<mark class=\"entity\" style=\"background: #ddd; padding: 0.45em 0.6em; margin: 0 0.25em; line-height: 1; border-radius: 0.35em;\">\n",
       "    bread\n",
       "    <span style=\"font-size: 0.8em; font-weight: bold; line-height: 1; border-radius: 0.35em; vertical-align: middle; margin-left: 0.5rem\">FOOD</span>\n",
       "</mark>\n",
       " tags and more all find new life in handy ways when you repurpose food packaging check out these easy tips             </div></span>"
      ],
      "text/plain": [
       "<IPython.core.display.HTML object>"
      ]
     },
     "metadata": {},
     "output_type": "display_data"
    },
    {
     "name": "stdout",
     "output_type": "stream",
     "text": [
      "Total Entities found:  (milk, bread)\n",
      "milk\n",
      "['No Tip to give!']\n",
      "['Refrigerate is Package use-by date']\n",
      "['The Date of Perish for Milk is 3 Months']\n",
      "bread\n",
      "['Bread can be stored in the Pantry for 3 to 5 Days', 'A tip about Bread is that May have shorter shelf life due to lack of preservatives.']\n",
      "['Bread can be stored in the Refrigerate for 2 to 3 Months']\n",
      "['No Tip to give!']\n"
     ]
    },
    {
     "data": {
      "text/html": [
       "<span class=\"tex2jax_ignore\"><div class=\"entities\" style=\"line-height: 2.5; direction: ltr\">naciendo en el año 2017 hannun estima que próximamente podrá cotizar en bolsa con el objetivo de poder aumentar todavía más su catálogo de mobiliario  🌳   |  | </div></span>"
      ],
      "text/plain": [
       "<IPython.core.display.HTML object>"
      ]
     },
     "metadata": {},
     "output_type": "display_data"
    },
    {
     "name": "stdout",
     "output_type": "stream",
     "text": [
      "Total Entities found:  ()\n"
     ]
    },
    {
     "data": {
      "text/html": [
       "<span class=\"tex2jax_ignore\"><div class=\"entities\" style=\"line-height: 2.5; direction: ltr\">everyone wishes to have a slice of this pie☺️ with the cherry on top 🥮🍒  brings  |  and  to the blockchain interface all the while paying attention to environmental benefits a system which is  and utterly irreplaceable💯  </div></span>"
      ],
      "text/plain": [
       "<IPython.core.display.HTML object>"
      ]
     },
     "metadata": {},
     "output_type": "display_data"
    },
    {
     "name": "stdout",
     "output_type": "stream",
     "text": [
      "Total Entities found:  ()\n"
     ]
    },
    {
     "data": {
      "text/html": [
       "<span class=\"tex2jax_ignore\"><div class=\"entities\" style=\"line-height: 2.5; direction: ltr\"> nos cuenta en  que hannun nacía en el año 2017 &quot;yo iba por  buscando lo local sostenible y  pero veía que no había una marca que reuniese todos esos valores así que vi una pequeña ventana de oportunidad&quot;  </div></span>"
      ],
      "text/plain": [
       "<IPython.core.display.HTML object>"
      ]
     },
     "metadata": {},
     "output_type": "display_data"
    },
    {
     "name": "stdout",
     "output_type": "stream",
     "text": [
      "Total Entities found:  ()\n"
     ]
    },
    {
     "data": {
      "text/html": [
       "<span class=\"tex2jax_ignore\"><div class=\"entities\" style=\"line-height: 2.5; direction: ltr\">do you know what goes in a home compost bin? challenge your composting knowledge and learn new composting tips in this earth911 quiz            </div></span>"
      ],
      "text/plain": [
       "<IPython.core.display.HTML object>"
      ]
     },
     "metadata": {},
     "output_type": "display_data"
    },
    {
     "name": "stdout",
     "output_type": "stream",
     "text": [
      "Total Entities found:  ()\n"
     ]
    },
    {
     "data": {
      "text/html": [
       "<span class=\"tex2jax_ignore\"><div class=\"entities\" style=\"line-height: 2.5; direction: ltr\">juniper sage large bar soap clean scent handcrafted soap cocoa and shea \n",
       "<mark class=\"entity\" style=\"background: #ddd; padding: 0.45em 0.6em; margin: 0 0.25em; line-height: 1; border-radius: 0.35em;\">\n",
       "    butter\n",
       "    <span style=\"font-size: 0.8em; font-weight: bold; line-height: 1; border-radius: 0.35em; vertical-align: middle; margin-left: 0.5rem\">FOOD</span>\n",
       "</mark>\n",
       " soap vegan soap environmentally friendly palm free           </div></span>"
      ],
      "text/plain": [
       "<IPython.core.display.HTML object>"
      ]
     },
     "metadata": {},
     "output_type": "display_data"
    },
    {
     "name": "stdout",
     "output_type": "stream",
     "text": [
      "Total Entities found:  (butter,)\n",
      "butter\n",
      "['A tip about Butter is that May be left at room temperature for 1 - 2 days.']\n",
      "['The Date of Perish for Butter is from 1 to 2 Months']\n",
      "['The Date of Perish for Butter is from 6 to 9 Months']\n"
     ]
    }
   ],
   "source": [
    "nlp = spacy.load(MODEL_PATH)\n",
    "allFoodTweets = []\n",
    "rangeTweets = [22,28]\n",
    "for i in range(rangeTweets[0], rangeTweets[1]):\n",
    "    myTweet = recent_tweets['tweet'][i]\n",
    "    x = nlp(preProcessLocal(myTweet))\n",
    "    allFoodTweets.append(x.doc.ents)\n",
    "\n",
    "counter = rangeTweets[0]\n",
    "for entities in allFoodTweets:\n",
    "    if counter != rangeTweets[1]:\n",
    "        myTweet = recent_tweets['tweet'][counter]\n",
    "        ent_recognize(preProcessLocal(myTweet))\n",
    "        print(\"Total Entities found: \", entities)\n",
    "        counter += 1\n",
    "    for e in entities:\n",
    "        item = repr(e)\n",
    "        print(item)\n",
    "        if entityFound(item):\n",
    "            for t in types: print(foodStorage(item, t))\n",
    "        else: print('entity not found!')"
   ]
  }
 ],
 "metadata": {
  "interpreter": {
   "hash": "b3ba2566441a7c06988d0923437866b63cedc61552a5af99d1f4fb67d367b25f"
  },
  "kernelspec": {
   "display_name": "Python 3.9.7 ('base')",
   "language": "python",
   "name": "python3"
  },
  "language_info": {
   "codemirror_mode": {
    "name": "ipython",
    "version": 3
   },
   "file_extension": ".py",
   "mimetype": "text/x-python",
   "name": "python",
   "nbconvert_exporter": "python",
   "pygments_lexer": "ipython3",
   "version": "3.9.7"
  },
  "orig_nbformat": 4
 },
 "nbformat": 4,
 "nbformat_minor": 2
}
